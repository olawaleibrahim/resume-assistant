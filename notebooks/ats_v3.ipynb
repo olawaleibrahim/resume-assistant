{
 "cells": [
  {
   "cell_type": "code",
   "execution_count": null,
   "metadata": {
    "vscode": {
     "languageId": "plaintext"
    }
   },
   "outputs": [],
   "source": [
    "import time\n",
    "\n",
    "from langchain_google_vertexai import ChatVertexAI\n",
    "\n",
    "from resume_assistant.application.dataset.upload import upload_to_gcs\n",
    "from resume_assistant.application.rag.retriever import get_langchain_docs\n",
    "from resume_assistant.application.rag.utils import extract_content_from_documents\n",
    "from resume_assistant.application.dataset.extraction import extract_job_description, scrape_webpage_content\n",
    "from resume_assistant.models.model import get_model\n",
    "import resume_assistant.application.rag.templates as templates "
   ]
  },
  {
   "cell_type": "code",
   "execution_count": null,
   "metadata": {
    "vscode": {
     "languageId": "plaintext"
    }
   },
   "outputs": [],
   "source": [
    "content = None\n",
    "user_resume_path = \"Olawale_Machine_Learning_Engineer_Copy.pdf\"\n",
    "url = \"https://job-boards.greenhouse.io/scaleai/jobs/4413274005\""
   ]
  },
  {
   "cell_type": "code",
   "execution_count": null,
   "metadata": {
    "vscode": {
     "languageId": "plaintext"
    }
   },
   "outputs": [],
   "source": [
    "public_url = upload_to_gcs(user_resume_path, content)\n",
    "print(\"222\")\n",
    "documents = get_langchain_docs(user_resume_path)\n",
    "content = extract_content_from_documents(documents)"
   ]
  },
  {
   "cell_type": "code",
   "execution_count": null,
   "metadata": {
    "vscode": {
     "languageId": "plaintext"
    }
   },
   "outputs": [],
   "source": [
    "import os\n",
    "from dotenv import load_dotenv\n",
    "load_dotenv()\n",
    "\n",
    "from langchain_google_community import DocAIParser\n",
    "from langchain_core.document_loaders.blob_loaders import Blob\n",
    "\n",
    "\n",
    "GCS_BUCKET_NAME = os.getenv(\"GCS_BUCKET_NAME\")\n",
    "DOC_PROCESSOR_NAME = os.getenv(\"DOC_PROCESSOR_NAME\")\n",
    "\n",
    "parser = DocAIParser(location=\"us\",\n",
    "                    processor_name=DOC_PROCESSOR_NAME,\n",
    "                    gcs_output_path=\"gs://{}/resume-assistant/data/output/dev/pdfs\".format(GCS_BUCKET_NAME))\n",
    "inp_path = f\"gs://{GCS_BUCKET_NAME}/resume-assistant/data/input/dev/pdfs/{user_resume_path}\"\n",
    "blob = Blob(path=inp_path)\n",
    "operations = parser.docai_parse([blob])"
   ]
  },
  {
   "cell_type": "code",
   "execution_count": null,
   "metadata": {
    "vscode": {
     "languageId": "plaintext"
    }
   },
   "outputs": [],
   "source": [
    "while parser.is_running(operations):\n",
    "    time.sleep(0.5)\n",
    "results = parser.get_results(operations)\n",
    "docs = list(parser.parse_from_results(results))"
   ]
  },
  {
   "cell_type": "code",
   "execution_count": null,
   "metadata": {
    "vscode": {
     "languageId": "plaintext"
    }
   },
   "outputs": [],
   "source": [
    "webpage_content = scrape_webpage_content(url)\n",
    "job_description = extract_job_description(webpage_content)"
   ]
  },
  {
   "cell_type": "code",
   "execution_count": null,
   "metadata": {
    "vscode": {
     "languageId": "plaintext"
    }
   },
   "outputs": [],
   "source": [
    "chat_model = get_model()\n",
    "ats_chain = templates.ATS_TEMPLATE | chat_model \n",
    "ats_result = ats_chain.invoke({\"job_description\": job_description,\n",
    "                       \"resume_content\": content})"
   ]
  },
  {
   "cell_type": "code",
   "execution_count": null,
   "metadata": {
    "vscode": {
     "languageId": "plaintext"
    }
   },
   "outputs": [],
   "source": [
    "import resume_assistant.application.processing.postprocess as postprocess\n",
    "json_ats_result = postprocess.get_json_from_result(ats_result)"
   ]
  },
  {
   "cell_type": "code",
   "execution_count": null,
   "metadata": {
    "vscode": {
     "languageId": "plaintext"
    }
   },
   "outputs": [],
   "source": [
    "json_ats_result"
   ]
  },
  {
   "cell_type": "code",
   "execution_count": null,
   "metadata": {
    "vscode": {
     "languageId": "plaintext"
    }
   },
   "outputs": [],
   "source": [
    "print(json_ats_result[\"Experience\"])"
   ]
  },
  {
   "cell_type": "code",
   "execution_count": null,
   "metadata": {
    "vscode": {
     "languageId": "plaintext"
    }
   },
   "outputs": [],
   "source": []
  },
  {
   "cell_type": "code",
   "execution_count": null,
   "metadata": {
    "vscode": {
     "languageId": "plaintext"
    }
   },
   "outputs": [],
   "source": []
  },
  {
   "cell_type": "code",
   "execution_count": null,
   "metadata": {
    "vscode": {
     "languageId": "plaintext"
    }
   },
   "outputs": [],
   "source": []
  },
  {
   "cell_type": "code",
   "execution_count": null,
   "metadata": {
    "vscode": {
     "languageId": "plaintext"
    }
   },
   "outputs": [],
   "source": []
  }
 ],
 "metadata": {
  "language_info": {
   "name": "python"
  }
 },
 "nbformat": 4,
 "nbformat_minor": 2
}
